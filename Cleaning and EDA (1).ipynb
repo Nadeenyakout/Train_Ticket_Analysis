{
 "cells": [
  {
   "cell_type": "markdown",
   "id": "7c12ddf4",
   "metadata": {},
   "source": [
    "# EDA (Exploratory Data Analysis)"
   ]
  },
  {
   "cell_type": "code",
   "execution_count": 2,
   "id": "7816921d",
   "metadata": {},
   "outputs": [
    {
     "name": "stdout",
     "output_type": "stream",
     "text": [
      "            Transaction ID Date of Purchase Time of Purchase Purchase Type  \\\n",
      "0  da8a6ba8-b3dc-4677-b176       08/12/2023         12:41:11        Online   \n",
      "1  b0cdd1b0-f214-4197-be53       16/12/2023         11:23:01       Station   \n",
      "2  f3ba7a96-f713-40d9-9629       19/12/2023         19:51:27        Online   \n",
      "3  b2471f11-4fe7-4c87-8ab4       20/12/2023         23:00:36       Station   \n",
      "4  2be00b45-0762-485e-a7a3       27/12/2023         18:22:56        Online   \n",
      "\n",
      "  Payment Method Railcard Ticket Class Ticket Type  Price  \\\n",
      "0    Contactless    Adult     Standard     Advance     43   \n",
      "1    Credit Card    Adult     Standard     Advance     23   \n",
      "2    Credit Card     None     Standard     Advance      3   \n",
      "3    Credit Card     None     Standard     Advance     13   \n",
      "4    Contactless     None     Standard     Advance     76   \n",
      "\n",
      "       Departure Station    Arrival Destination Date of Journey  \\\n",
      "0      London Paddington  Liverpool Lime Street      01/01/2024   \n",
      "1     London Kings Cross                   York      01/01/2024   \n",
      "2  Liverpool Lime Street  Manchester Piccadilly      02/01/2024   \n",
      "3      London Paddington                Reading      01/01/2024   \n",
      "4  Liverpool Lime Street          London Euston      01/01/2024   \n",
      "\n",
      "  Departure Time Arrival Time Actual Arrival Time Journey Status  \\\n",
      "0       11:00:00     13:30:00            13:30:00        On Time   \n",
      "1       09:45:00     11:35:00            11:40:00        Delayed   \n",
      "2       18:15:00     18:45:00            18:45:00        On Time   \n",
      "3       21:30:00     22:30:00            22:30:00        On Time   \n",
      "4       16:45:00     19:00:00            19:00:00        On Time   \n",
      "\n",
      "  Reason for Delay Refund Request  \n",
      "0              NaN             No  \n",
      "1   Signal Failure             No  \n",
      "2              NaN             No  \n",
      "3              NaN             No  \n",
      "4              NaN             No  \n",
      "<class 'pandas.core.frame.DataFrame'>\n",
      "RangeIndex: 31653 entries, 0 to 31652\n",
      "Data columns (total 18 columns):\n",
      " #   Column               Non-Null Count  Dtype \n",
      "---  ------               --------------  ----- \n",
      " 0   Transaction ID       31653 non-null  object\n",
      " 1   Date of Purchase     31653 non-null  object\n",
      " 2   Time of Purchase     31653 non-null  object\n",
      " 3   Purchase Type        31653 non-null  object\n",
      " 4   Payment Method       31653 non-null  object\n",
      " 5   Railcard             31653 non-null  object\n",
      " 6   Ticket Class         31653 non-null  object\n",
      " 7   Ticket Type          31653 non-null  object\n",
      " 8   Price                31653 non-null  int64 \n",
      " 9   Departure Station    31653 non-null  object\n",
      " 10  Arrival Destination  31653 non-null  object\n",
      " 11  Date of Journey      31653 non-null  object\n",
      " 12  Departure Time       31653 non-null  object\n",
      " 13  Arrival Time         31653 non-null  object\n",
      " 14  Actual Arrival Time  29773 non-null  object\n",
      " 15  Journey Status       31653 non-null  object\n",
      " 16  Reason for Delay     4172 non-null   object\n",
      " 17  Refund Request       31653 non-null  object\n",
      "dtypes: int64(1), object(17)\n",
      "memory usage: 4.3+ MB\n",
      "None\n"
     ]
    }
   ],
   "source": [
    "import pandas as pd\n",
    "df = pd.read_csv(\"C:/Users/yakou/Downloads/railway.csv\", sep=';')  # read the data \n",
    "print(df.head())\n",
    "print(df.info())\n"
   ]
  },
  {
   "cell_type": "code",
   "execution_count": 3,
   "id": "0eed856d",
   "metadata": {},
   "outputs": [
    {
     "name": "stdout",
     "output_type": "stream",
     "text": [
      "Shape: (31653, 18)\n",
      "Columns: ['Transaction ID', 'Date of Purchase', 'Time of Purchase', 'Purchase Type', 'Payment Method', 'Railcard', 'Ticket Class', 'Ticket Type', 'Price', 'Departure Station', 'Arrival Destination', 'Date of Journey', 'Departure Time', 'Arrival Time', 'Actual Arrival Time', 'Journey Status', 'Reason for Delay', 'Refund Request']\n",
      "Transaction ID         object\n",
      "Date of Purchase       object\n",
      "Time of Purchase       object\n",
      "Purchase Type          object\n",
      "Payment Method         object\n",
      "Railcard               object\n",
      "Ticket Class           object\n",
      "Ticket Type            object\n",
      "Price                   int64\n",
      "Departure Station      object\n",
      "Arrival Destination    object\n",
      "Date of Journey        object\n",
      "Departure Time         object\n",
      "Arrival Time           object\n",
      "Actual Arrival Time    object\n",
      "Journey Status         object\n",
      "Reason for Delay       object\n",
      "Refund Request         object\n",
      "dtype: object\n",
      "              Price\n",
      "count  31653.000000\n",
      "mean      23.439200\n",
      "std       29.997628\n",
      "min        1.000000\n",
      "25%        5.000000\n",
      "50%       11.000000\n",
      "75%       35.000000\n",
      "max      267.000000\n"
     ]
    }
   ],
   "source": [
    "# Dataset shape\n",
    "print(\"Shape:\", df.shape)\n",
    "\n",
    "# Column names\n",
    "print(\"Columns:\", df.columns.tolist())\n",
    "\n",
    "# Data types\n",
    "print(df.dtypes)\n",
    "\n",
    "# Summary stats for numeric fields\n",
    "print(df.describe())\n"
   ]
  },
  {
   "cell_type": "code",
   "execution_count": 4,
   "id": "85d9bf27",
   "metadata": {},
   "outputs": [
    {
     "name": "stdout",
     "output_type": "stream",
     "text": [
      "Transaction ID             0\n",
      "Date of Purchase           0\n",
      "Time of Purchase           0\n",
      "Purchase Type              0\n",
      "Payment Method             0\n",
      "Railcard                   0\n",
      "Ticket Class               0\n",
      "Ticket Type                0\n",
      "Price                      0\n",
      "Departure Station          0\n",
      "Arrival Destination        0\n",
      "Date of Journey            0\n",
      "Departure Time             0\n",
      "Arrival Time               0\n",
      "Actual Arrival Time     1880\n",
      "Journey Status             0\n",
      "Reason for Delay       27481\n",
      "Refund Request             0\n",
      "dtype: int64\n",
      "Transaction ID         0\n",
      "Date of Purchase       0\n",
      "Time of Purchase       0\n",
      "Purchase Type          0\n",
      "Payment Method         0\n",
      "Railcard               0\n",
      "Ticket Class           0\n",
      "Ticket Type            0\n",
      "Price                  0\n",
      "Departure Station      0\n",
      "Arrival Destination    0\n",
      "Date of Journey        0\n",
      "Departure Time         0\n",
      "Arrival Time           0\n",
      "Actual Arrival Time    0\n",
      "Journey Status         0\n",
      "Reason for Delay       0\n",
      "Refund Request         0\n",
      "dtype: int64\n"
     ]
    }
   ],
   "source": [
    "# Unique Values in Each Column\n",
    "print(df.isnull().sum())        # Pandas NaNs\n",
    "print((df == '').sum())         # Empty strings\n"
   ]
  },
  {
   "cell_type": "code",
   "execution_count": 5,
   "id": "6ae45a0c",
   "metadata": {},
   "outputs": [
    {
     "name": "stdout",
     "output_type": "stream",
     "text": [
      "Transaction ID: 31653 unique values\n",
      "Date of Purchase: 128 unique values\n",
      "Time of Purchase: 24351 unique values\n",
      "Purchase Type: 2 unique values\n",
      "Payment Method: 3 unique values\n",
      "Railcard: 4 unique values\n",
      "Ticket Class: 2 unique values\n",
      "Ticket Type: 3 unique values\n",
      "Price: 125 unique values\n",
      "Departure Station: 12 unique values\n",
      "Arrival Destination: 32 unique values\n",
      "Date of Journey: 121 unique values\n",
      "Departure Time: 96 unique values\n",
      "Arrival Time: 203 unique values\n",
      "Actual Arrival Time: 623 unique values\n",
      "Journey Status: 3 unique values\n",
      "Reason for Delay: 8 unique values\n",
      "Refund Request: 2 unique values\n"
     ]
    }
   ],
   "source": [
    "# Unique Values in Each Column\n",
    "for col in df.columns:\n",
    "    print(f\"{col}: {df[col].nunique()} unique values\")\n"
   ]
  },
  {
   "cell_type": "code",
   "execution_count": 6,
   "id": "8ef03a9e",
   "metadata": {},
   "outputs": [
    {
     "name": "stdout",
     "output_type": "stream",
     "text": [
      "Online     18521\n",
      "Station    13132\n",
      "Name: Purchase Type, dtype: int64\n",
      "Credit Card    19136\n",
      "Contactless    10834\n",
      "Debit Card      1683\n",
      "Name: Payment Method, dtype: int64\n",
      "Advance     17561\n",
      "Off-Peak     8752\n",
      "Anytime      5340\n",
      "Name: Ticket Type, dtype: int64\n",
      "On Time      27481\n",
      "Delayed       2292\n",
      "Cancelled     1880\n",
      "Name: Journey Status, dtype: int64\n",
      "Weather               995\n",
      "Technical Issue       707\n",
      "Signal Failure        523\n",
      "Signal failure        447\n",
      "Staffing              410\n",
      "Staff Shortage        399\n",
      "Weather Conditions    377\n",
      "Traffic               314\n",
      "Name: Reason for Delay, dtype: int64\n"
     ]
    }
   ],
   "source": [
    "# Value Counts for Categorical Columns\n",
    "print(df['Purchase Type'].value_counts())\n",
    "print(df['Payment Method'].value_counts())\n",
    "print(df['Ticket Type'].value_counts())\n",
    "print(df['Journey Status'].value_counts())\n",
    "print(df['Reason for Delay'].value_counts())\n"
   ]
  },
  {
   "cell_type": "code",
   "execution_count": 7,
   "id": "6c51b7e7",
   "metadata": {},
   "outputs": [
    {
     "name": "stdout",
     "output_type": "stream",
     "text": [
      "Manchester Piccadilly    5650\n",
      "London Euston            4954\n",
      "Liverpool Lime Street    4561\n",
      "London Paddington        4500\n",
      "London Kings Cross       4229\n",
      "London St Pancras        3891\n",
      "Birmingham New Street    2136\n",
      "York                      927\n",
      "Reading                   594\n",
      "Oxford                    144\n",
      "Name: Departure Station, dtype: int64\n",
      "Birmingham New Street    7742\n",
      "Liverpool Lime Street    5022\n",
      "York                     4019\n",
      "Manchester Piccadilly    3968\n",
      "Reading                  3920\n",
      "London Euston            1567\n",
      "London St Pancras         749\n",
      "Oxford                    623\n",
      "London Paddington         351\n",
      "Leicester                 337\n",
      "Name: Arrival Destination, dtype: int64\n"
     ]
    }
   ],
   "source": [
    "#Top Departure and Arrival Stations\n",
    "print(df['Departure Station'].value_counts().head(10))\n",
    "print(df['Arrival Destination'].value_counts().head(10))\n"
   ]
  },
  {
   "cell_type": "code",
   "execution_count": 8,
   "id": "ec0c8e6b",
   "metadata": {},
   "outputs": [
    {
     "data": {
      "image/png": "[encoded data removed]",
      "text/plain": [
       "<Figure size 1000x600 with 1 Axes>"
      ]
     },
     "metadata": {},
     "output_type": "display_data"
    }
   ],
   "source": [
    "# Distribution of Ticket Prices\n",
    "import matplotlib.pyplot as plt\n",
    "import seaborn as sns\n",
    "\n",
    "df['Price'] = pd.to_numeric(df['Price'], errors='coerce')  # Ensure numeric\n",
    "\n",
    "plt.figure(figsize=(10,6))\n",
    "sns.histplot(df['Price'], bins=20, kde=True)\n",
    "plt.title(\"Ticket Price Distribution\")\n",
    "plt.xlabel(\"Price\")\n",
    "plt.ylabel(\"Count\")\n",
    "plt.show()\n"
   ]
  },
  {
   "cell_type": "code",
   "execution_count": 9,
   "id": "bcc3ed93",
   "metadata": {},
   "outputs": [
    {
     "data": {
      "text/html": [
       "<div>\n",
       "<style scoped>\n",
       "    .dataframe tbody tr th:only-of-type {\n",
       "        vertical-align: middle;\n",
       "    }\n",
       "\n",
       "    .dataframe tbody tr th {\n",
       "        vertical-align: top;\n",
       "    }\n",
       "\n",
       "    .dataframe thead th {\n",
       "        text-align: right;\n",
       "    }\n",
       "</style>\n",
       "<table border=\"1\" class=\"dataframe\">\n",
       "  <thead>\n",
       "    <tr style=\"text-align: right;\">\n",
       "      <th>Refund Request</th>\n",
       "      <th>No</th>\n",
       "      <th>Yes</th>\n",
       "    </tr>\n",
       "    <tr>\n",
       "      <th>Journey Status</th>\n",
       "      <th></th>\n",
       "      <th></th>\n",
       "    </tr>\n",
       "  </thead>\n",
       "  <tbody>\n",
       "    <tr>\n",
       "      <th>Cancelled</th>\n",
       "      <td>1308</td>\n",
       "      <td>572</td>\n",
       "    </tr>\n",
       "    <tr>\n",
       "      <th>Delayed</th>\n",
       "      <td>1746</td>\n",
       "      <td>546</td>\n",
       "    </tr>\n",
       "    <tr>\n",
       "      <th>On Time</th>\n",
       "      <td>27481</td>\n",
       "      <td>0</td>\n",
       "    </tr>\n",
       "  </tbody>\n",
       "</table>\n",
       "</div>"
      ],
      "text/plain": [
       "Refund Request     No  Yes\n",
       "Journey Status            \n",
       "Cancelled        1308  572\n",
       "Delayed          1746  546\n",
       "On Time         27481    0"
      ]
     },
     "execution_count": 9,
     "metadata": {},
     "output_type": "execute_result"
    }
   ],
   "source": [
    "#Journey Status vs Refund Requests\n",
    "pd.crosstab(df['Journey Status'], df['Refund Request'])\n"
   ]
  },
  {
   "cell_type": "code",
   "execution_count": 18,
   "id": "1bc76da9",
   "metadata": {},
   "outputs": [
    {
     "data": {
      "text/plain": [
       "<Axes: title={'center': 'Reasons for Delay'}>"
      ]
     },
     "execution_count": 18,
     "metadata": {},
     "output_type": "execute_result"
    },
    {
     "data": {
      "image/png": "[encoded data removed]",
      "text/plain": [
       "<Figure size 1000x500 with 1 Axes>"
      ]
     },
     "metadata": {},
     "output_type": "display_data"
    }
   ],
   "source": [
    "# Strip any leading/trailing whitespace from column names just in case\n",
    "df.columns = df.columns.str.strip()\n",
    "\n",
    "# Step 1: Normalize text in the 'reason_for_delay' column\n",
    "df['reason_for_delay'] = df['reason_for_delay'].str.strip().str.lower()\n",
    "\n",
    "# Step 2: Map similar reasons to a unified label\n",
    "standardize_reasons = {\n",
    "    'signal failure': 'Signal Failure',\n",
    "    'weather': 'Weather',\n",
    "    'weather conditions': 'Weather',\n",
    "    'staffing': 'Staff Shortage',\n",
    "    'staff shortage': 'Staff Shortage',\n",
    "    'technical issue': 'Technical Issue',\n",
    "    'technical fault': 'Technical Issue',\n",
    "    'mechanical fault': 'Technical Issue',\n",
    "    'late departure': 'Scheduling',\n",
    "    # Add more mappings as needed\n",
    "}\n",
    "\n",
    "# Apply the mapping\n",
    "df['reason_for_delay'] = df['reason_for_delay'].replace(standardize_reasons)\n",
    "\n",
    "# Optional: Capitalize each word for nicer display\n",
    "df['reason_for_delay'] = df['reason_for_delay'].str.title()\n",
    "\n",
    "# Step 3: Plot\n",
    "df['reason_for_delay'].value_counts().plot(kind='barh', figsize=(10, 5), title=\"Reasons for Delay\")\n"
   ]
  },
  {
   "cell_type": "code",
   "execution_count": 17,
   "id": "8147f009",
   "metadata": {},
   "outputs": [
    {
     "name": "stdout",
     "output_type": "stream",
     "text": [
      "['transaction_id', 'date_of_purchase', 'time_of_purchase', 'purchase_type', 'payment_method', 'railcard', 'ticket_class', 'ticket_type', 'price', 'departure_station', 'arrival_destination', 'date_of_journey', 'departure_time', 'arrival_time', 'actual_arrival_time', 'journey_status', 'reason_for_delay', 'refund_request', 'canceled_trip']\n"
     ]
    }
   ],
   "source": [
    "print(df.columns.tolist())\n"
   ]
  },
  {
   "cell_type": "markdown",
   "id": "cf2aac79",
   "metadata": {},
   "source": [
    "# Data Cleaning"
   ]
  },
  {
   "cell_type": "code",
   "execution_count": 11,
   "id": "099720d8",
   "metadata": {},
   "outputs": [
    {
     "name": "stdout",
     "output_type": "stream",
     "text": [
      "            transaction_id date_of_purchase time_of_purchase purchase_type  \\\n",
      "0  da8a6ba8-b3dc-4677-b176       2023-12-08         12:41:11        online   \n",
      "1  b0cdd1b0-f214-4197-be53       2023-12-16         11:23:01       station   \n",
      "2  f3ba7a96-f713-40d9-9629       2023-12-19         19:51:27        online   \n",
      "3  b2471f11-4fe7-4c87-8ab4       2023-12-20         23:00:36       station   \n",
      "4  2be00b45-0762-485e-a7a3       2023-12-27         18:22:56        online   \n",
      "\n",
      "  payment_method railcard ticket_class ticket_type  price  \\\n",
      "0    contactless    adult     standard     advance     43   \n",
      "1    credit card    adult     standard     advance     23   \n",
      "2    credit card     none     standard     advance      3   \n",
      "3    credit card     none     standard     advance     13   \n",
      "4    contactless     none     standard     advance     76   \n",
      "\n",
      "       departure_station    arrival_destination date_of_journey  \\\n",
      "0      london paddington  Liverpool Lime Street      2024-01-01   \n",
      "1     london kings cross                   York      2024-01-01   \n",
      "2  liverpool lime street  Manchester Piccadilly      2024-01-02   \n",
      "3      london paddington                Reading      2024-01-01   \n",
      "4  liverpool lime street          London Euston      2024-01-01   \n",
      "\n",
      "  departure_time arrival_time actual_arrival_time journey_status  \\\n",
      "0       11:00:00     13:30:00            13:30:00        on time   \n",
      "1       09:45:00     11:35:00            11:40:00        delayed   \n",
      "2       18:15:00     18:45:00            18:45:00        on time   \n",
      "3       21:30:00     22:30:00            22:30:00        on time   \n",
      "4       16:45:00     19:00:00            19:00:00        on time   \n",
      "\n",
      "  reason_for_delay refund_request  canceled_trip  \n",
      "0         no_delay             no          False  \n",
      "1   signal failure             no          False  \n",
      "2         no_delay             no          False  \n",
      "3         no_delay             no          False  \n",
      "4         no_delay             no          False  \n"
     ]
    }
   ],
   "source": [
    "import pandas as pd\n",
    "\n",
    "# 1. Read the data\n",
    "df = pd.read_csv(\"C:/Users/yakou/Downloads/railway.csv\", sep=';')\n",
    "\n",
    "# 2. Standardize column headers early\n",
    "df.columns = df.columns.str.strip().str.lower().str.replace(' ', '_')\n",
    "\n",
    "# 3. Convert date and time columns to database-friendly formats\n",
    "df['date_of_purchase'] = pd.to_datetime(df['date_of_purchase'], dayfirst=True).dt.strftime('%Y-%m-%d')\n",
    "df['time_of_purchase'] = pd.to_datetime(df['time_of_purchase']).dt.strftime('%H:%M:%S')\n",
    "df['date_of_journey'] = pd.to_datetime(df['date_of_journey'], dayfirst=True).dt.strftime('%Y-%m-%d')\n",
    "df['departure_time'] = pd.to_datetime(df['departure_time']).dt.strftime('%H:%M:%S')\n",
    "df['arrival_time'] = pd.to_datetime(df['arrival_time']).dt.strftime('%H:%M:%S')\n",
    "df['actual_arrival_time'] = pd.to_datetime(df['actual_arrival_time'], errors='coerce').dt.strftime('%H:%M:%S')\n",
    "\n",
    "# 4. Identify canceled trips\n",
    "df['canceled_trip'] = df['journey_status'].str.lower().str.contains('cancelled', na=False)\n",
    "\n",
    "# 5. Fill missing delay reasons for on-time trips\n",
    "df['journey_status'] = df['journey_status'].str.lower()\n",
    "df['reason_for_delay'] = df.apply(\n",
    "    lambda x: 'no_delay' if x['journey_status'] == 'on time' and pd.isna(x['reason_for_delay']) else x['reason_for_delay'],\n",
    "    axis=1\n",
    ")\n",
    "\n",
    "# 6. Fill missing refund requests\n",
    "df['refund_request'] = df['refund_request'].fillna('no_cancelation')\n",
    "\n",
    "# 7. Standardize values in reason_for_delay\n",
    "df['reason_for_delay'] = df['reason_for_delay'].replace({\n",
    "    'staff shortage': 'staffing',\n",
    "    'Staff shortage': 'staffing',\n",
    "    'weather conditions': 'weather',\n",
    "    'Weather conditions': 'weather'\n",
    "})\n",
    "\n",
    "# 8. Handle actual arrival time for canceled trips\n",
    "df['actual_arrival_time'] = df.apply(\n",
    "    lambda x: 'no arrival' if x['canceled_trip'] else x['actual_arrival_time'],\n",
    "    axis=1\n",
    ")\n",
    "\n",
    "# 9. Lowercase only proper text fields (not date/time)\n",
    "text_columns = [\n",
    "    'purchase_type', 'payment_method', 'railcard', 'ticket_class', 'ticket_type',\n",
    "    'departure_station', 'arrival_station', 'journey_status', 'reason_for_delay', 'refund_request'\n",
    "]\n",
    "for col in text_columns:\n",
    "    if col in df.columns:\n",
    "        df[col] = df[col].astype(str).str.lower()\n",
    "\n",
    "# Final check\n",
    "print(df.head())\n"
   ]
  },
  {
   "cell_type": "code",
   "execution_count": null,
   "id": "53890f00",
   "metadata": {},
   "outputs": [],
   "source": []
  }
 ],
 "metadata": {
  "kernelspec": {
   "display_name": "Python 3 (ipykernel)",
   "language": "python",
   "name": "python3"
  },
  "language_info": {
   "codemirror_mode": {
    "name": "ipython",
    "version": 3
   },
   "file_extension": ".py",
   "mimetype": "text/x-python",
   "name": "python",
   "nbconvert_exporter": "python",
   "pygments_lexer": "ipython3",
   "version": "3.11.3"
  }
 },
 "nbformat": 4,
 "nbformat_minor": 5
}
